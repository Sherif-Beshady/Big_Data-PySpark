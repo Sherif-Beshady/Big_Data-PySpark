{
  "nbformat": 4,
  "nbformat_minor": 0,
  "metadata": {
    "colab": {
      "name": "PySpark - SQL Basics.ipynb",
      "version": "0.3.2",
      "provenance": [],
      "collapsed_sections": [],
      "include_colab_link": true
    },
    "kernelspec": {
      "display_name": "Python 3",
      "language": "python",
      "name": "python3"
    },
    "language_info": {
      "codemirror_mode": {
        "name": "ipython",
        "version": 3
      },
      "file_extension": ".py",
      "mimetype": "text/x-python",
      "name": "python",
      "nbconvert_exporter": "python",
      "pygments_lexer": "ipython3",
      "version": "3.6.5"
    }
  },
  "cells": [
    {
      "cell_type": "markdown",
      "metadata": {
        "id": "view-in-github",
        "colab_type": "text"
      },
      "source": [
        "<a href=\"https://colab.research.google.com/github/Sherif-Beshady/Big_Data-PySpark/blob/master/PySpark_SQL_Basics.ipynb\" target=\"_parent\"><img src=\"https://colab.research.google.com/assets/colab-badge.svg\" alt=\"Open In Colab\"/></a>"
      ]
    },
    {
      "cell_type": "markdown",
      "metadata": {
        "colab_type": "text",
        "id": "qJoeN3e8_Gzk"
      },
      "source": [
        "# Introduction to Google Colab"
      ]
    },
    {
      "cell_type": "markdown",
      "metadata": {
        "colab_type": "text",
        "id": "Dd6t0uFzuR4X"
      },
      "source": [
        "## Install Spark"
      ]
    },
    {
      "cell_type": "code",
      "metadata": {
        "colab_type": "code",
        "id": "tt7ZS1_wGgjn",
        "colab": {
          "base_uri": "https://localhost:8080/",
          "height": 389
        },
        "outputId": "4dcb3668-c806-4ae2-bf31-199b9baedb4b"
      },
      "source": [
        "!apt-get update\n",
        "!apt-get install openjdk-8-jdk-headless -qq > /dev/null\n",
        "!wget -q http://archive.apache.org/dist/spark/spark-2.3.1/spark-2.3.1-bin-hadoop2.7.tgz\n",
        "!tar xf spark-2.3.1-bin-hadoop2.7.tgz\n",
        "!pip install -q findspark"
      ],
      "execution_count": 1,
      "outputs": [
        {
          "output_type": "stream",
          "text": [
            "\r0% [Working]\r            \rGet:1 https://cloud.r-project.org/bin/linux/ubuntu bionic-cran35/ InRelease [3,626 B]\n",
            "\r0% [Connecting to archive.ubuntu.com] [Connecting to security.ubuntu.com (91.18\r0% [Connecting to archive.ubuntu.com] [Connecting to security.ubuntu.com (91.18\r0% [1 InRelease gpgv 3,626 B] [Connecting to archive.ubuntu.com] [Connecting to\r                                                                               \rIgn:2 https://developer.download.nvidia.com/compute/cuda/repos/ubuntu1804/x86_64  InRelease\n",
            "\r0% [1 InRelease gpgv 3,626 B] [Connecting to archive.ubuntu.com] [Connecting to\r                                                                               \rIgn:3 https://developer.download.nvidia.com/compute/machine-learning/repos/ubuntu1804/x86_64  InRelease\n",
            "\r0% [1 InRelease gpgv 3,626 B] [Connecting to archive.ubuntu.com (91.189.88.31)]\r                                                                               \rHit:4 https://developer.download.nvidia.com/compute/cuda/repos/ubuntu1804/x86_64  Release\n",
            "\r0% [1 InRelease gpgv 3,626 B] [Connecting to archive.ubuntu.com (91.189.88.31)]\r                                                                               \rGet:5 https://developer.download.nvidia.com/compute/machine-learning/repos/ubuntu1804/x86_64  Release [564 B]\n",
            "\r0% [1 InRelease gpgv 3,626 B] [Connecting to archive.ubuntu.com (91.189.88.31)]\r0% [1 InRelease gpgv 3,626 B] [Connecting to archive.ubuntu.com (91.189.88.31)]\r                                                                               \rGet:6 https://developer.download.nvidia.com/compute/machine-learning/repos/ubuntu1804/x86_64  Release.gpg [833 B]\n",
            "\r0% [1 InRelease gpgv 3,626 B] [Connecting to archive.ubuntu.com (91.189.88.31)]\r                                                                               \rGet:7 http://security.ubuntu.com/ubuntu bionic-security InRelease [88.7 kB]\n",
            "\r0% [1 InRelease gpgv 3,626 B] [Waiting for headers] [7 InRelease 2,586 B/88.7 k\r                                                                               \rHit:8 http://ppa.launchpad.net/graphics-drivers/ppa/ubuntu bionic InRelease\n",
            "Hit:9 http://archive.ubuntu.com/ubuntu bionic InRelease\n",
            "Get:10 http://archive.ubuntu.com/ubuntu bionic-updates InRelease [88.7 kB]\n",
            "Get:12 http://ppa.launchpad.net/marutter/c2d4u3.5/ubuntu bionic InRelease [15.4 kB]\n",
            "Get:13 https://developer.download.nvidia.com/compute/machine-learning/repos/ubuntu1804/x86_64  Packages [13.2 kB]\n",
            "Get:14 http://archive.ubuntu.com/ubuntu bionic-backports InRelease [74.6 kB]\n",
            "Get:15 http://ppa.launchpad.net/marutter/c2d4u3.5/ubuntu bionic/main Sources [1,678 kB]\n",
            "Get:16 http://archive.ubuntu.com/ubuntu bionic-updates/universe amd64 Packages [1,278 kB]\n",
            "Get:17 http://archive.ubuntu.com/ubuntu bionic-updates/main amd64 Packages [925 kB]\n",
            "Get:18 http://ppa.launchpad.net/marutter/c2d4u3.5/ubuntu bionic/main amd64 Packages [805 kB]\n",
            "Fetched 4,971 kB in 4s (1,311 kB/s)\n",
            "Reading package lists... Done\n"
          ],
          "name": "stdout"
        }
      ]
    },
    {
      "cell_type": "code",
      "metadata": {
        "colab_type": "code",
        "id": "sdOOq4twHN1K",
        "colab": {}
      },
      "source": [
        "import os\n",
        "os.environ[\"JAVA_HOME\"] = \"/usr/lib/jvm/java-8-openjdk-amd64\"\n",
        "os.environ[\"SPARK_HOME\"] = \"/content/spark-2.3.1-bin-hadoop2.7\""
      ],
      "execution_count": 0,
      "outputs": []
    },
    {
      "cell_type": "code",
      "metadata": {
        "colab_type": "code",
        "id": "3ACYMwhgHTYz",
        "outputId": "98dd4143-7419-45d4-8b8c-754317714e41",
        "colab": {
          "base_uri": "https://localhost:8080/",
          "height": 83
        }
      },
      "source": [
        "!ls"
      ],
      "execution_count": 3,
      "outputs": [
        {
          "output_type": "stream",
          "text": [
            "sample_data  spark-2.3.1-bin-hadoop2.7\tspark-2.3.1-bin-hadoop2.7.tgz\n"
          ],
          "name": "stdout"
        }
      ]
    },
    {
      "cell_type": "code",
      "metadata": {
        "colab_type": "code",
        "id": "wjfF7LLgHZe3",
        "outputId": "39c1f057-953e-4016-b4af-f44c1584a2a2",
        "colab": {
          "base_uri": "https://localhost:8080/",
          "height": 193
        }
      },
      "source": [
        "import findspark\n",
        "findspark.init()\n",
        "from pyspark import SparkContext\n",
        "\n",
        "sc = SparkContext.getOrCreate()\n",
        "sc"
      ],
      "execution_count": 4,
      "outputs": [
        {
          "output_type": "execute_result",
          "data": {
            "text/html": [
              "\n",
              "        <div>\n",
              "            <p><b>SparkContext</b></p>\n",
              "\n",
              "            <p><a href=\"http://1c07c66d2789:4040\">Spark UI</a></p>\n",
              "\n",
              "            <dl>\n",
              "              <dt>Version</dt>\n",
              "                <dd><code>v2.3.1</code></dd>\n",
              "              <dt>Master</dt>\n",
              "                <dd><code>local[*]</code></dd>\n",
              "              <dt>AppName</dt>\n",
              "                <dd><code>pyspark-shell</code></dd>\n",
              "            </dl>\n",
              "        </div>\n",
              "        "
            ],
            "text/plain": [
              "<SparkContext master=local[*] appName=pyspark-shell>"
            ]
          },
          "metadata": {
            "tags": []
          },
          "execution_count": 4
        }
      ]
    },
    {
      "cell_type": "code",
      "metadata": {
        "colab_type": "code",
        "id": "Gs7fzvxcHfvw",
        "outputId": "04db562c-50ae-447e-a19b-cbf698e8ef96",
        "colab": {
          "base_uri": "https://localhost:8080/",
          "height": 216
        }
      },
      "source": [
        "import pyspark\n",
        "from pyspark.sql import SparkSession\n",
        "spark = SparkSession.builder.getOrCreate() \n",
        "spark"
      ],
      "execution_count": 5,
      "outputs": [
        {
          "output_type": "execute_result",
          "data": {
            "text/html": [
              "\n",
              "            <div>\n",
              "                <p><b>SparkSession - in-memory</b></p>\n",
              "                \n",
              "        <div>\n",
              "            <p><b>SparkContext</b></p>\n",
              "\n",
              "            <p><a href=\"http://1c07c66d2789:4040\">Spark UI</a></p>\n",
              "\n",
              "            <dl>\n",
              "              <dt>Version</dt>\n",
              "                <dd><code>v2.3.1</code></dd>\n",
              "              <dt>Master</dt>\n",
              "                <dd><code>local[*]</code></dd>\n",
              "              <dt>AppName</dt>\n",
              "                <dd><code>pyspark-shell</code></dd>\n",
              "            </dl>\n",
              "        </div>\n",
              "        \n",
              "            </div>\n",
              "        "
            ],
            "text/plain": [
              "<pyspark.sql.session.SparkSession at 0x7f54303b3240>"
            ]
          },
          "metadata": {
            "tags": []
          },
          "execution_count": 5
        }
      ]
    },
    {
      "cell_type": "markdown",
      "metadata": {
        "id": "SU43V5LtQVy3",
        "colab_type": "text"
      },
      "source": [
        "## **Part 2 - Import Dataset**\n",
        "This is where i copy the city of chicago data to the notebook from the dataset location **(copy link ---> !wget <link>)**"
      ]
    },
    {
      "cell_type": "code",
      "metadata": {
        "colab_type": "code",
        "id": "We2yp-o7Hgu9",
        "colab": {
          "base_uri": "https://localhost:8080/",
          "height": 224
        },
        "outputId": "047cef52-400a-4e13-9da8-ac744608c182"
      },
      "source": [
        "!wget https://data.cityofchicago.org/api/views/ijzp-q8t2/rows.csv?accessType=DOWNLOAD\n",
        " "
      ],
      "execution_count": 6,
      "outputs": [
        {
          "output_type": "stream",
          "text": [
            "--2019-08-26 00:08:16--  https://data.cityofchicago.org/api/views/ijzp-q8t2/rows.csv?accessType=DOWNLOAD\n",
            "Resolving data.cityofchicago.org (data.cityofchicago.org)... 52.206.140.205, 52.206.68.26, 52.206.140.199\n",
            "Connecting to data.cityofchicago.org (data.cityofchicago.org)|52.206.140.205|:443... connected.\n",
            "HTTP request sent, awaiting response... 200 OK\n",
            "Length: unspecified [text/csv]\n",
            "Saving to: ‘rows.csv?accessType=DOWNLOAD’\n",
            "\n",
            "rows.csv?accessType     [           <=>      ]   1.70G  2.84MB/s    in 10m 26s \n",
            "\n",
            "2019-08-26 00:19:03 (2.78 MB/s) - ‘rows.csv?accessType=DOWNLOAD’ saved [1828243991]\n",
            "\n"
          ],
          "name": "stdout"
        }
      ]
    },
    {
      "cell_type": "code",
      "metadata": {
        "colab_type": "code",
        "id": "QdrFO3yrwptm",
        "colab": {
          "base_uri": "https://localhost:8080/",
          "height": 80
        },
        "outputId": "8fc0532e-8a0a-4030-b655-4a3badae1d39"
      },
      "source": [
        "ls"
      ],
      "execution_count": 7,
      "outputs": [
        {
          "output_type": "stream",
          "text": [
            "'rows.csv?accessType=DOWNLOAD'   \u001b[0m\u001b[01;34mspark-2.3.1-bin-hadoop2.7\u001b[0m/\n",
            " \u001b[01;34msample_data\u001b[0m/                    spark-2.3.1-bin-hadoop2.7.tgz\n"
          ],
          "name": "stdout"
        }
      ]
    },
    {
      "cell_type": "code",
      "metadata": {
        "id": "IkwcHXUHRgQi",
        "colab_type": "code",
        "colab": {}
      },
      "source": [
        "mv rows.csv\\?accessType\\=DOWNLOAD reported-crimes.csv"
      ],
      "execution_count": 0,
      "outputs": []
    },
    {
      "cell_type": "code",
      "metadata": {
        "id": "8P2VaCl_WlDC",
        "colab_type": "code",
        "colab": {
          "base_uri": "https://localhost:8080/",
          "height": 80
        },
        "outputId": "f0996fc9-6e17-4779-9d50-7331a7c2d13f"
      },
      "source": [
        "ls\n"
      ],
      "execution_count": 9,
      "outputs": [
        {
          "output_type": "stream",
          "text": [
            "reported-crimes.csv  \u001b[0m\u001b[01;34mspark-2.3.1-bin-hadoop2.7\u001b[0m/\n",
            "\u001b[01;34msample_data\u001b[0m/         spark-2.3.1-bin-hadoop2.7.tgz\n"
          ],
          "name": "stdout"
        }
      ]
    },
    {
      "cell_type": "code",
      "metadata": {
        "id": "CAdpN44FWoh_",
        "colab_type": "code",
        "colab": {
          "base_uri": "https://localhost:8080/",
          "height": 264
        },
        "outputId": "a04280ec-4dec-41b6-f9ad-a8e1c465e736"
      },
      "source": [
        "from pyspark.sql.functions import to_timestamp,col,lit\n",
        "rc=spark.read.csv('reported-crimes.csv',header=True).withColumn('Date',to_timestamp(col('Date'),'MM/dd/yyyy hh:mm:ss a')).filter(col('Date') < lit('2018-11-12'))\n",
        "rc.show(5)"
      ],
      "execution_count": 46,
      "outputs": [
        {
          "output_type": "stream",
          "text": [
            "+--------+-----------+-------------------+--------------------+----+-------------+--------------------+--------------------+------+--------+----+--------+----+--------------+--------+------------+------------+----+--------------------+------------+-------------+--------------------+--------------------------+---------+---------------+-------------+-----+----------------------+----------------+------------+\n",
            "|      ID|Case Number|               Date|               Block|IUCR| Primary Type|         Description|Location Description|Arrest|Domestic|Beat|District|Ward|Community Area|FBI Code|X Coordinate|Y Coordinate|Year|          Updated On|    Latitude|    Longitude|            Location|Historical Wards 2003-2015|Zip Codes|Community Areas|Census Tracts|Wards|Boundaries - ZIP Codes|Police Districts|Police Beats|\n",
            "+--------+-----------+-------------------+--------------------+----+-------------+--------------------+--------------------+------+--------+----+--------+----+--------------+--------+------------+------------+----+--------------------+------------+-------------+--------------------+--------------------------+---------+---------------+-------------+-----+----------------------+----------------+------------+\n",
            "|11504777|   JB512602|2018-11-11 23:50:00|012XX N MAPLEWOOD...|0486|      BATTERY|DOMESTIC BATTERY ...|           APARTMENT| false|   false|1423|     014|  26|            24|     08B|     1159177|     1908214|2018|11/18/2018 04:11:...|41.903866454|-87.690744072|(41.903866454, -8...|                        10|    21560|             25|          302|   49|                     4|               7|          62|\n",
            "|11504767|   JB512570|2018-11-11 23:50:00|064XX S DR MARTIN...|0320|      ROBBERY|STRONGARM - NO WE...|           APARTMENT| false|   false|0312|     003|  20|            69|      03|     1180025|     1862499|2018|11/18/2018 04:11:...|41.777967289|-87.615568353|(41.777967289, -8...|                        53|    22260|              9|          332|    4|                    60|              18|         277|\n",
            "|11504756|   JB512567|2018-11-11 23:35:00|     016XX W 47TH ST|0460|      BATTERY|              SIMPLE|            SIDEWALK|  true|   false|0924|     009|  15|            61|     08B|     1166215|     1873545|2018|11/18/2018 04:11:...|41.808584003|-87.665881774|(41.808584003, -8...|                        53|    14924|             59|          740|    4|                    37|              23|         119|\n",
            "|11504768|   JB512579|2018-11-11 23:31:00|061XX S EBERHART AVE|0486|      BATTERY|DOMESTIC BATTERY ...|           APARTMENT| false|   false|0313|     003|  20|            42|     08B|     1180634|     1864504|2018|11/18/2018 04:11:...|41.783455232|-87.613274211|(41.783455232, -8...|                        53|    22260|              9|          331|    4|                    60|              18|         275|\n",
            "|11504771|   JB512603|2018-11-11 23:30:00|038XX N SHEFFIELD...|2826|OTHER OFFENSE|HARASSMENT BY ELE...|           RESIDENCE| false|   false|1923|     019|  46|             6|      26|     1168915|     1925750|2018|11/18/2018 04:11:...|41.951780377|-87.654464178|(41.951780377, -8...|                        38|    21186|             57|           83|   39|                    53|               5|          12|\n",
            "+--------+-----------+-------------------+--------------------+----+-------------+--------------------+--------------------+------+--------+----+--------+----+--------------+--------+------------+------------+----+--------------------+------------+-------------+--------------------+--------------------------+---------+---------------+-------------+-----+----------------------+----------------+------------+\n",
            "only showing top 5 rows\n",
            "\n"
          ],
          "name": "stdout"
        }
      ]
    },
    {
      "cell_type": "code",
      "metadata": {
        "id": "W-XNcxouY-Xo",
        "colab_type": "code",
        "colab": {
          "base_uri": "https://localhost:8080/",
          "height": 561
        },
        "outputId": "29d95d79-3b47-4399-da80-4f7eddd97d6a"
      },
      "source": [
        "rc.printSchema()"
      ],
      "execution_count": 12,
      "outputs": [
        {
          "output_type": "stream",
          "text": [
            "root\n",
            " |-- ID: string (nullable = true)\n",
            " |-- Case Number: string (nullable = true)\n",
            " |-- Date: timestamp (nullable = true)\n",
            " |-- Block: string (nullable = true)\n",
            " |-- IUCR: string (nullable = true)\n",
            " |-- Primary Type: string (nullable = true)\n",
            " |-- Description: string (nullable = true)\n",
            " |-- Location Description: string (nullable = true)\n",
            " |-- Arrest: string (nullable = true)\n",
            " |-- Domestic: string (nullable = true)\n",
            " |-- Beat: string (nullable = true)\n",
            " |-- District: string (nullable = true)\n",
            " |-- Ward: string (nullable = true)\n",
            " |-- Community Area: string (nullable = true)\n",
            " |-- FBI Code: string (nullable = true)\n",
            " |-- X Coordinate: string (nullable = true)\n",
            " |-- Y Coordinate: string (nullable = true)\n",
            " |-- Year: string (nullable = true)\n",
            " |-- Updated On: string (nullable = true)\n",
            " |-- Latitude: string (nullable = true)\n",
            " |-- Longitude: string (nullable = true)\n",
            " |-- Location: string (nullable = true)\n",
            " |-- Historical Wards 2003-2015: string (nullable = true)\n",
            " |-- Zip Codes: string (nullable = true)\n",
            " |-- Community Areas: string (nullable = true)\n",
            " |-- Census Tracts: string (nullable = true)\n",
            " |-- Wards: string (nullable = true)\n",
            " |-- Boundaries - ZIP Codes: string (nullable = true)\n",
            " |-- Police Districts: string (nullable = true)\n",
            " |-- Police Beats: string (nullable = true)\n",
            "\n"
          ],
          "name": "stdout"
        }
      ]
    },
    {
      "cell_type": "code",
      "metadata": {
        "id": "v29bSKEHbRiD",
        "colab_type": "code",
        "colab": {
          "base_uri": "https://localhost:8080/",
          "height": 80
        },
        "outputId": "59cef1c9-de13-4344-de48-2b76cbd7c916"
      },
      "source": [
        "ls"
      ],
      "execution_count": 13,
      "outputs": [
        {
          "output_type": "stream",
          "text": [
            "reported-crimes.csv  \u001b[0m\u001b[01;34mspark-2.3.1-bin-hadoop2.7\u001b[0m/     \u001b[01;34mspark-warehouse\u001b[0m/\n",
            "\u001b[01;34msample_data\u001b[0m/         spark-2.3.1-bin-hadoop2.7.tgz\n"
          ],
          "name": "stdout"
        }
      ]
    },
    {
      "cell_type": "code",
      "metadata": {
        "id": "pVr1MmhxxAxI",
        "colab_type": "code",
        "colab": {
          "base_uri": "https://localhost:8080/",
          "height": 204
        },
        "outputId": "888b03a6-bab0-4eee-d34f-78f45e6030f1"
      },
      "source": [
        "rc.select('IUCR').show(5)"
      ],
      "execution_count": 14,
      "outputs": [
        {
          "output_type": "stream",
          "text": [
            "+----+\n",
            "|IUCR|\n",
            "+----+\n",
            "|1310|\n",
            "|0820|\n",
            "|143A|\n",
            "|143A|\n",
            "|0460|\n",
            "+----+\n",
            "only showing top 5 rows\n",
            "\n"
          ],
          "name": "stdout"
        }
      ]
    },
    {
      "cell_type": "code",
      "metadata": {
        "id": "7cWd3TGo0XdW",
        "colab_type": "code",
        "colab": {
          "base_uri": "https://localhost:8080/",
          "height": 204
        },
        "outputId": "9a8ee9ef-4798-46a1-f36a-aa50e180fe10"
      },
      "source": [
        "rc.select(rc.IUCR).show(5)"
      ],
      "execution_count": 15,
      "outputs": [
        {
          "output_type": "stream",
          "text": [
            "+----+\n",
            "|IUCR|\n",
            "+----+\n",
            "|1310|\n",
            "|0820|\n",
            "|143A|\n",
            "|143A|\n",
            "|0460|\n",
            "+----+\n",
            "only showing top 5 rows\n",
            "\n"
          ],
          "name": "stdout"
        }
      ]
    },
    {
      "cell_type": "code",
      "metadata": {
        "id": "djjMipIK0j3N",
        "colab_type": "code",
        "colab": {
          "base_uri": "https://localhost:8080/",
          "height": 204
        },
        "outputId": "abcf481f-5c98-417b-e971-801387472c97"
      },
      "source": [
        "rc.select(col('IUCR')).show(5)"
      ],
      "execution_count": 16,
      "outputs": [
        {
          "output_type": "stream",
          "text": [
            "+----+\n",
            "|IUCR|\n",
            "+----+\n",
            "|1310|\n",
            "|0820|\n",
            "|143A|\n",
            "|143A|\n",
            "|0460|\n",
            "+----+\n",
            "only showing top 5 rows\n",
            "\n"
          ],
          "name": "stdout"
        }
      ]
    },
    {
      "cell_type": "code",
      "metadata": {
        "id": "HmnLJTMb0wZE",
        "colab_type": "code",
        "colab": {
          "base_uri": "https://localhost:8080/",
          "height": 204
        },
        "outputId": "38a46ed1-f5a3-4345-d339-e1fd38e5dc19"
      },
      "source": [
        "rc.select('case number', 'date', 'arrest').show(5)"
      ],
      "execution_count": 17,
      "outputs": [
        {
          "output_type": "stream",
          "text": [
            "+-----------+-------------------+------+\n",
            "|case number|               date|arrest|\n",
            "+-----------+-------------------+------+\n",
            "|   JC397365|2019-08-17 23:59:00| false|\n",
            "|   JC397040|2019-08-17 23:59:00|  true|\n",
            "|   JC396936|2019-08-17 23:57:00| false|\n",
            "|   JC397003|2019-08-17 23:55:00| false|\n",
            "|   JC396947|2019-08-17 23:45:00|  true|\n",
            "+-----------+-------------------+------+\n",
            "only showing top 5 rows\n",
            "\n"
          ],
          "name": "stdout"
        }
      ]
    },
    {
      "cell_type": "code",
      "metadata": {
        "id": "ZombYdqH06SI",
        "colab_type": "code",
        "colab": {}
      },
      "source": [
        ""
      ],
      "execution_count": 0,
      "outputs": []
    },
    {
      "cell_type": "markdown",
      "metadata": {
        "id": "6U5W1Nbr1IeL",
        "colab_type": "text"
      },
      "source": [
        "**Add a colmun with name One and all entries are ones**"
      ]
    },
    {
      "cell_type": "code",
      "metadata": {
        "id": "gEGv-MBY1Qmi",
        "colab_type": "code",
        "colab": {}
      },
      "source": [
        "from pyspark.sql.functions import lit"
      ],
      "execution_count": 0,
      "outputs": []
    },
    {
      "cell_type": "code",
      "metadata": {
        "id": "AHXF93471cSW",
        "colab_type": "code",
        "colab": {
          "base_uri": "https://localhost:8080/",
          "height": 264
        },
        "outputId": "876c7786-b441-49bb-aa8c-6deb580aa5be"
      },
      "source": [
        "rc.withColumn('ONE',lit(1)).show(5)"
      ],
      "execution_count": 20,
      "outputs": [
        {
          "output_type": "stream",
          "text": [
            "+--------+-----------+-------------------+--------------------+----+-----------------+--------------------+--------------------+------+--------+----+--------+----+--------------+--------+------------+------------+----+--------------------+------------+-------------+--------------------+--------------------------+---------+---------------+-------------+-----+----------------------+----------------+------------+---+\n",
            "|      ID|Case Number|               Date|               Block|IUCR|     Primary Type|         Description|Location Description|Arrest|Domestic|Beat|District|Ward|Community Area|FBI Code|X Coordinate|Y Coordinate|Year|          Updated On|    Latitude|    Longitude|            Location|Historical Wards 2003-2015|Zip Codes|Community Areas|Census Tracts|Wards|Boundaries - ZIP Codes|Police Districts|Police Beats|ONE|\n",
            "+--------+-----------+-------------------+--------------------+----+-----------------+--------------------+--------------------+------+--------+----+--------+----+--------------+--------+------------+------------+----+--------------------+------------+-------------+--------------------+--------------------------+---------+---------------+-------------+-----+----------------------+----------------+------------+---+\n",
            "|11798223|   JC397365|2019-08-17 23:59:00|     007XX E 87TH ST|1310|  CRIMINAL DAMAGE|         TO PROPERTY| TAVERN/LIQUOR STORE| false|   false|0632|     006|   6|            44|      14|     1182632|     1847455|2019|08/24/2019 04:06:...| 41.73662489|-87.606477087|(41.73662489, -87...|                        31|    21546|             40|          407|   32|                    61|              20|         241|  1|\n",
            "|11798117|   JC397040|2019-08-17 23:59:00|     058XX W EDDY ST|0820|            THEFT|      $500 AND UNDER|              STREET|  true|   false|1633|     016|  36|            15|      06|     1136708|     1923008|2019|08/24/2019 04:06:...|41.944895064| -87.77292405|(41.944895064, -8...|                        25|    22254|             15|          342|   44|                    52|              12|          27|  1|\n",
            "|11797883|   JC396936|2019-08-17 23:57:00|     022XX W 50TH PL|143A|WEAPONS VIOLATION|UNLAWFUL POSS OF ...|            SIDEWALK| false|   false|0931|     009|  15|            63|      15|     1162212|     1871142|2019|08/24/2019 04:06:...|41.802074246|-87.680630868|(41.802074246, -8...|                        19|    14924|             61|          775|    3|                    37|              23|         119|  1|\n",
            "|11797909|   JC397003|2019-08-17 23:55:00|086XX S PHILLIPS AVE|143A|WEAPONS VIOLATION|UNLAWFUL POSS OF ...|               ALLEY| false|   false|0423|     004|   7|            46|      15|     1193994|     1848244|2019|08/24/2019 04:06:...|41.738519112|-87.564825299|(41.738519112, -8...|                        43|    21202|             42|          478|   37|                    25|              19|         238|  1|\n",
            "|11797926|   JC396947|2019-08-17 23:45:00|079XX S SOUTH CHI...|0460|          BATTERY|              SIMPLE|            SIDEWALK|  true|   false|0411|     004|   8|            46|     08B|     1188433|     1852780|2019|08/24/2019 04:06:...|41.751100797| -87.58505475|(41.751100797, -8...|                         9|    21202|             41|          431|   35|                    25|              19|         224|  1|\n",
            "+--------+-----------+-------------------+--------------------+----+-----------------+--------------------+--------------------+------+--------+----+--------+----+--------------+--------+------------+------------+----+--------------------+------------+-------------+--------------------+--------------------------+---------+---------------+-------------+-----+----------------------+----------------+------------+---+\n",
            "only showing top 5 rows\n",
            "\n"
          ],
          "name": "stdout"
        }
      ]
    },
    {
      "cell_type": "code",
      "metadata": {
        "id": "HCmNkuOj1xcz",
        "colab_type": "code",
        "colab": {
          "base_uri": "https://localhost:8080/",
          "height": 244
        },
        "outputId": "5b6d3a66-e249-4c38-ef98-b5f616714c22"
      },
      "source": [
        "rc=rc.drop('IUCR')\n",
        "rc.show(5)"
      ],
      "execution_count": 21,
      "outputs": [
        {
          "output_type": "stream",
          "text": [
            "+--------+-----------+-------------------+--------------------+-----------------+--------------------+--------------------+------+--------+----+--------+----+--------------+--------+------------+------------+----+--------------------+------------+-------------+--------------------+--------------------------+---------+---------------+-------------+-----+----------------------+----------------+------------+\n",
            "|      ID|Case Number|               Date|               Block|     Primary Type|         Description|Location Description|Arrest|Domestic|Beat|District|Ward|Community Area|FBI Code|X Coordinate|Y Coordinate|Year|          Updated On|    Latitude|    Longitude|            Location|Historical Wards 2003-2015|Zip Codes|Community Areas|Census Tracts|Wards|Boundaries - ZIP Codes|Police Districts|Police Beats|\n",
            "+--------+-----------+-------------------+--------------------+-----------------+--------------------+--------------------+------+--------+----+--------+----+--------------+--------+------------+------------+----+--------------------+------------+-------------+--------------------+--------------------------+---------+---------------+-------------+-----+----------------------+----------------+------------+\n",
            "|11798223|   JC397365|2019-08-17 23:59:00|     007XX E 87TH ST|  CRIMINAL DAMAGE|         TO PROPERTY| TAVERN/LIQUOR STORE| false|   false|0632|     006|   6|            44|      14|     1182632|     1847455|2019|08/24/2019 04:06:...| 41.73662489|-87.606477087|(41.73662489, -87...|                        31|    21546|             40|          407|   32|                    61|              20|         241|\n",
            "|11798117|   JC397040|2019-08-17 23:59:00|     058XX W EDDY ST|            THEFT|      $500 AND UNDER|              STREET|  true|   false|1633|     016|  36|            15|      06|     1136708|     1923008|2019|08/24/2019 04:06:...|41.944895064| -87.77292405|(41.944895064, -8...|                        25|    22254|             15|          342|   44|                    52|              12|          27|\n",
            "|11797883|   JC396936|2019-08-17 23:57:00|     022XX W 50TH PL|WEAPONS VIOLATION|UNLAWFUL POSS OF ...|            SIDEWALK| false|   false|0931|     009|  15|            63|      15|     1162212|     1871142|2019|08/24/2019 04:06:...|41.802074246|-87.680630868|(41.802074246, -8...|                        19|    14924|             61|          775|    3|                    37|              23|         119|\n",
            "|11797909|   JC397003|2019-08-17 23:55:00|086XX S PHILLIPS AVE|WEAPONS VIOLATION|UNLAWFUL POSS OF ...|               ALLEY| false|   false|0423|     004|   7|            46|      15|     1193994|     1848244|2019|08/24/2019 04:06:...|41.738519112|-87.564825299|(41.738519112, -8...|                        43|    21202|             42|          478|   37|                    25|              19|         238|\n",
            "|11797926|   JC396947|2019-08-17 23:45:00|079XX S SOUTH CHI...|          BATTERY|              SIMPLE|            SIDEWALK|  true|   false|0411|     004|   8|            46|     08B|     1188433|     1852780|2019|08/24/2019 04:06:...|41.751100797| -87.58505475|(41.751100797, -8...|                         9|    21202|             41|          431|   35|                    25|              19|         224|\n",
            "+--------+-----------+-------------------+--------------------+-----------------+--------------------+--------------------+------+--------+----+--------+----+--------------+--------+------------+------------+----+--------------------+------------+-------------+--------------------+--------------------------+---------+---------------+-------------+-----+----------------------+----------------+------------+\n",
            "only showing top 5 rows\n",
            "\n"
          ],
          "name": "stdout"
        }
      ]
    },
    {
      "cell_type": "code",
      "metadata": {
        "id": "0lNi35Jc2SqG",
        "colab_type": "code",
        "colab": {}
      },
      "source": [
        ""
      ],
      "execution_count": 0,
      "outputs": []
    },
    {
      "cell_type": "markdown",
      "metadata": {
        "id": "eZr7Y4w_72i8",
        "colab_type": "text"
      },
      "source": [
        "## **Add reported crimes addtional day 12 Nov 2018 to the dataset**"
      ]
    },
    {
      "cell_type": "code",
      "metadata": {
        "id": "97nAxL2m3-XW",
        "colab_type": "code",
        "colab": {
          "base_uri": "https://localhost:8080/",
          "height": 34
        },
        "outputId": "4ffef04d-53c2-4fa6-f7de-de0404e9b82f"
      },
      "source": [
        "rc.tone_day=spark.read.csv('reported-crimes.csv',header=True).withColumn('Date',to_timestamp(col('Date'),'MM/dd/yyyy hh:mm:ss a')).filter(col('Date') == lit('2018-11-12'))\n",
        "one_day.count()"
      ],
      "execution_count": 47,
      "outputs": [
        {
          "output_type": "execute_result",
          "data": {
            "text/plain": [
              "3"
            ]
          },
          "metadata": {
            "tags": []
          },
          "execution_count": 47
        }
      ]
    },
    {
      "cell_type": "code",
      "metadata": {
        "id": "PlQ7salW61l8",
        "colab_type": "code",
        "colab": {
          "base_uri": "https://localhost:8080/",
          "height": 349
        },
        "outputId": "579d1d26-663c-4432-90cc-372044628e34"
      },
      "source": [
        "rc.union(one_day).show(10)"
      ],
      "execution_count": 50,
      "outputs": [
        {
          "output_type": "stream",
          "text": [
            "+--------+-----------+-------------------+--------------------+----+---------------+--------------------+--------------------+------+--------+----+--------+----+--------------+--------+------------+------------+----+--------------------+------------+-------------+--------------------+--------------------------+---------+---------------+-------------+-----+----------------------+----------------+------------+\n",
            "|      ID|Case Number|               Date|               Block|IUCR|   Primary Type|         Description|Location Description|Arrest|Domestic|Beat|District|Ward|Community Area|FBI Code|X Coordinate|Y Coordinate|Year|          Updated On|    Latitude|    Longitude|            Location|Historical Wards 2003-2015|Zip Codes|Community Areas|Census Tracts|Wards|Boundaries - ZIP Codes|Police Districts|Police Beats|\n",
            "+--------+-----------+-------------------+--------------------+----+---------------+--------------------+--------------------+------+--------+----+--------+----+--------------+--------+------------+------------+----+--------------------+------------+-------------+--------------------+--------------------------+---------+---------------+-------------+-----+----------------------+----------------+------------+\n",
            "|11504777|   JB512602|2018-11-11 23:50:00|012XX N MAPLEWOOD...|0486|        BATTERY|DOMESTIC BATTERY ...|           APARTMENT| false|   false|1423|     014|  26|            24|     08B|     1159177|     1908214|2018|11/18/2018 04:11:...|41.903866454|-87.690744072|(41.903866454, -8...|                        10|    21560|             25|          302|   49|                     4|               7|          62|\n",
            "|11504767|   JB512570|2018-11-11 23:50:00|064XX S DR MARTIN...|0320|        ROBBERY|STRONGARM - NO WE...|           APARTMENT| false|   false|0312|     003|  20|            69|      03|     1180025|     1862499|2018|11/18/2018 04:11:...|41.777967289|-87.615568353|(41.777967289, -8...|                        53|    22260|              9|          332|    4|                    60|              18|         277|\n",
            "|11504756|   JB512567|2018-11-11 23:35:00|     016XX W 47TH ST|0460|        BATTERY|              SIMPLE|            SIDEWALK|  true|   false|0924|     009|  15|            61|     08B|     1166215|     1873545|2018|11/18/2018 04:11:...|41.808584003|-87.665881774|(41.808584003, -8...|                        53|    14924|             59|          740|    4|                    37|              23|         119|\n",
            "|11504768|   JB512579|2018-11-11 23:31:00|061XX S EBERHART AVE|0486|        BATTERY|DOMESTIC BATTERY ...|           APARTMENT| false|   false|0313|     003|  20|            42|     08B|     1180634|     1864504|2018|11/18/2018 04:11:...|41.783455232|-87.613274211|(41.783455232, -8...|                        53|    22260|              9|          331|    4|                    60|              18|         275|\n",
            "|11504771|   JB512603|2018-11-11 23:30:00|038XX N SHEFFIELD...|2826|  OTHER OFFENSE|HARASSMENT BY ELE...|           RESIDENCE| false|   false|1923|     019|  46|             6|      26|     1168915|     1925750|2018|11/18/2018 04:11:...|41.951780377|-87.654464178|(41.951780377, -8...|                        38|    21186|             57|           83|   39|                    53|               5|          12|\n",
            "|11505270|   JB513235|2018-11-11 23:30:00|    044XX S STATE ST|1320|CRIMINAL DAMAGE|          TO VEHICLE|RESIDENTIAL YARD ...| false|    true|0215|     002|   3|            38|      14|     1177013|     1875665|2018|11/18/2018 04:11:...|41.814164525|-87.626213323|(41.814164525, -8...|                        12|    14924|              4|          393|    9|                    37|              24|          98|\n",
            "|11504698|   JB512563|2018-11-11 23:30:00|  087XX S BURLEY AVE|0486|        BATTERY|DOMESTIC BATTERY ...|           APARTMENT| false|    true|0424|     004|  10|            46|     08B|     1199184|     1847735|2018|11/18/2018 04:11:...|41.736993626|-87.545827764|(41.736993626, -8...|                      null|    21202|             42|          509|   47|                    25|              19|         239|\n",
            "|11505079|   JB513091|2018-11-11 23:30:00|015XX W GLENLAKE AVE|0620|       BURGLARY|      UNLAWFUL ENTRY|           RESIDENCE| false|   false|2433|     024|  48|            77|      05|     1165038|     1940605|2018|11/18/2018 04:11:...|41.992626426|-87.668292041|(41.992626426, -8...|                        40|     4451|             76|          536|   16|                    14|              11|          50|\n",
            "|11504967|   JB512947|2018-11-11 23:30:00|009XX W GARFIELD ...|0820|          THEFT|      $500 AND UNDER|              STREET| false|   false|0712|     007|  16|            68|      06|     1171062|     1868229|2018|11/18/2018 04:11:...|41.793891658|-87.648259484|(41.793891658, -8...|                        53|    21559|             66|          113|    4|                    37|              23|         127|\n",
            "|11504697|   JB512562|2018-11-11 23:13:00|  085XX S YATES BLVD|051A|        ASSAULT| AGGRAVATED: HANDGUN|              STREET| false|   false|0423|     004|   7|            46|     04A|     1193651|     1848836|2018|11/18/2018 04:11:...| 41.74015201|-87.566062614|(41.74015201, -87...|                        43|    21202|             42|          478|   37|                    25|              19|         238|\n",
            "+--------+-----------+-------------------+--------------------+----+---------------+--------------------+--------------------+------+--------+----+--------+----+--------------+--------+------------+------------+----+--------------------+------------+-------------+--------------------+--------------------------+---------+---------------+-------------+-----+----------------------+----------------+------------+\n",
            "only showing top 10 rows\n",
            "\n"
          ],
          "name": "stdout"
        }
      ]
    },
    {
      "cell_type": "code",
      "metadata": {
        "id": "FC0RtnL98VTP",
        "colab_type": "code",
        "colab": {
          "base_uri": "https://localhost:8080/",
          "height": 329
        },
        "outputId": "63776e97-c7ac-4d2d-ea30-258fc2c9a767"
      },
      "source": [
        "rc.union(one_day).orderBy('Date',ascending=False).show(10)"
      ],
      "execution_count": 51,
      "outputs": [
        {
          "output_type": "stream",
          "text": [
            "+--------+-----------+-------------------+--------------------+----+------------------+--------------------+--------------------+------+--------+----+--------+----+--------------+--------+------------+------------+----+--------------------+------------+-------------+--------------------+--------------------------+---------+---------------+-------------+-----+----------------------+----------------+------------+\n",
            "|      ID|Case Number|               Date|               Block|IUCR|      Primary Type|         Description|Location Description|Arrest|Domestic|Beat|District|Ward|Community Area|FBI Code|X Coordinate|Y Coordinate|Year|          Updated On|    Latitude|    Longitude|            Location|Historical Wards 2003-2015|Zip Codes|Community Areas|Census Tracts|Wards|Boundaries - ZIP Codes|Police Districts|Police Beats|\n",
            "+--------+-----------+-------------------+--------------------+----+------------------+--------------------+--------------------+------+--------+----+--------+----+--------------+--------+------------+------------+----+--------------------+------------+-------------+--------------------+--------------------------+---------+---------------+-------------+-----+----------------------+----------------+------------+\n",
            "|11540042|   JB559262|2018-11-12 00:00:00| 010XX N DEARBORN ST|1140|DECEPTIVE PRACTICE|        EMBEZZLEMENT|   CONVENIENCE STORE|  true|   false|1824|     018|   2|             8|      12|     1175747|     1907348|2018|03/16/2019 04:01:...|41.901133376|-87.629904979|(41.901133376, -8...|                        22|    14926|             37|          230|   11|                    54|              14|         197|\n",
            "|11505149|   JB513151|2018-11-12 00:00:00|  003XX S WHIPPLE ST|0810|             THEFT|           OVER $500|              STREET| false|   false|1124|     011|  28|            27|      06|     1156099|     1898319|2018|11/19/2018 04:22:...|41.876776356|-87.702317641|(41.876776356, -8...|                        11|    21184|             28|          737|   23|                    28|              16|         123|\n",
            "|11516594|   JB528186|2018-11-12 00:00:00| 049XX S PRAIRIE AVE|2826|     OTHER OFFENSE|HARASSMENT BY ELE...|               OTHER| false|   false|0224|     002|   3|            38|      26|     1178879|     1872259|2018|11/28/2018 04:14:...|41.804775828|-87.619472488|(41.804775828, -8...|                        12|    21192|              4|          449|    9|                    10|              24|         107|\n",
            "|11504777|   JB512602|2018-11-11 23:50:00|012XX N MAPLEWOOD...|0486|           BATTERY|DOMESTIC BATTERY ...|           APARTMENT| false|   false|1423|     014|  26|            24|     08B|     1159177|     1908214|2018|11/18/2018 04:11:...|41.903866454|-87.690744072|(41.903866454, -8...|                        10|    21560|             25|          302|   49|                     4|               7|          62|\n",
            "|11504767|   JB512570|2018-11-11 23:50:00|064XX S DR MARTIN...|0320|           ROBBERY|STRONGARM - NO WE...|           APARTMENT| false|   false|0312|     003|  20|            69|      03|     1180025|     1862499|2018|11/18/2018 04:11:...|41.777967289|-87.615568353|(41.777967289, -8...|                        53|    22260|              9|          332|    4|                    60|              18|         277|\n",
            "|11504756|   JB512567|2018-11-11 23:35:00|     016XX W 47TH ST|0460|           BATTERY|              SIMPLE|            SIDEWALK|  true|   false|0924|     009|  15|            61|     08B|     1166215|     1873545|2018|11/18/2018 04:11:...|41.808584003|-87.665881774|(41.808584003, -8...|                        53|    14924|             59|          740|    4|                    37|              23|         119|\n",
            "|11504768|   JB512579|2018-11-11 23:31:00|061XX S EBERHART AVE|0486|           BATTERY|DOMESTIC BATTERY ...|           APARTMENT| false|   false|0313|     003|  20|            42|     08B|     1180634|     1864504|2018|11/18/2018 04:11:...|41.783455232|-87.613274211|(41.783455232, -8...|                        53|    22260|              9|          331|    4|                    60|              18|         275|\n",
            "|11504967|   JB512947|2018-11-11 23:30:00|009XX W GARFIELD ...|0820|             THEFT|      $500 AND UNDER|              STREET| false|   false|0712|     007|  16|            68|      06|     1171062|     1868229|2018|11/18/2018 04:11:...|41.793891658|-87.648259484|(41.793891658, -8...|                        53|    21559|             66|          113|    4|                    37|              23|         127|\n",
            "|11504771|   JB512603|2018-11-11 23:30:00|038XX N SHEFFIELD...|2826|     OTHER OFFENSE|HARASSMENT BY ELE...|           RESIDENCE| false|   false|1923|     019|  46|             6|      26|     1168915|     1925750|2018|11/18/2018 04:11:...|41.951780377|-87.654464178|(41.951780377, -8...|                        38|    21186|             57|           83|   39|                    53|               5|          12|\n",
            "|11505270|   JB513235|2018-11-11 23:30:00|    044XX S STATE ST|1320|   CRIMINAL DAMAGE|          TO VEHICLE|RESIDENTIAL YARD ...| false|    true|0215|     002|   3|            38|      14|     1177013|     1875665|2018|11/18/2018 04:11:...|41.814164525|-87.626213323|(41.814164525, -8...|                        12|    14924|              4|          393|    9|                    37|              24|          98|\n",
            "+--------+-----------+-------------------+--------------------+----+------------------+--------------------+--------------------+------+--------+----+--------+----+--------------+--------+------------+------------+----+--------------------+------------+-------------+--------------------+--------------------------+---------+---------------+-------------+-----+----------------------+----------------+------------+\n",
            "only showing top 10 rows\n",
            "\n"
          ],
          "name": "stdout"
        }
      ]
    },
    {
      "cell_type": "markdown",
      "metadata": {
        "id": "rdIIUg3cDB5u",
        "colab_type": "text"
      },
      "source": [
        "## **What are the top crimes by *primary type* in descending order of occurances**"
      ]
    },
    {
      "cell_type": "code",
      "metadata": {
        "id": "ykjjWfcu-6vK",
        "colab_type": "code",
        "colab": {
          "base_uri": "https://localhost:8080/",
          "height": 289
        },
        "outputId": "98b47e2e-fbbc-4831-f23e-3c329472cdfa"
      },
      "source": [
        "rc.groupby('Primary Type').count().sort('count',ascending=False).show(10)"
      ],
      "execution_count": 56,
      "outputs": [
        {
          "output_type": "stream",
          "text": [
            "+-------------------+-------+\n",
            "|       Primary Type|  count|\n",
            "+-------------------+-------+\n",
            "|              THEFT|1418507|\n",
            "|            BATTERY|1232332|\n",
            "|    CRIMINAL DAMAGE| 771565|\n",
            "|          NARCOTICS| 711517|\n",
            "|      OTHER OFFENSE| 418806|\n",
            "|            ASSAULT| 418549|\n",
            "|           BURGLARY| 388046|\n",
            "|MOTOR VEHICLE THEFT| 314170|\n",
            "| DECEPTIVE PRACTICE| 264646|\n",
            "|            ROBBERY| 255628|\n",
            "+-------------------+-------+\n",
            "only showing top 10 rows\n",
            "\n"
          ],
          "name": "stdout"
        }
      ]
    },
    {
      "cell_type": "code",
      "metadata": {
        "id": "G7BGKwX8BT6E",
        "colab_type": "code",
        "colab": {}
      },
      "source": [
        ""
      ],
      "execution_count": 0,
      "outputs": []
    },
    {
      "cell_type": "markdown",
      "metadata": {
        "id": "QtOQXG6mJChi",
        "colab_type": "text"
      },
      "source": [
        "## Find the precentage of reported crimes that resulted an arrest"
      ]
    },
    {
      "cell_type": "code",
      "metadata": {
        "id": "Bnjy1tncDv75",
        "colab_type": "code",
        "colab": {
          "base_uri": "https://localhost:8080/",
          "height": 136
        },
        "outputId": "5a68fc06-6a54-4f44-c54b-0222afc4689c"
      },
      "source": [
        "rc.select('Arrest').distinct().show()"
      ],
      "execution_count": 76,
      "outputs": [
        {
          "output_type": "stream",
          "text": [
            "+------+\n",
            "|Arrest|\n",
            "+------+\n",
            "| false|\n",
            "|  true|\n",
            "+------+\n",
            "\n"
          ],
          "name": "stdout"
        }
      ]
    },
    {
      "cell_type": "code",
      "metadata": {
        "id": "4z8k9t8XMdbp",
        "colab_type": "code",
        "colab": {
          "base_uri": "https://localhost:8080/",
          "height": 561
        },
        "outputId": "2f9567b1-2129-4315-845a-13b722e8029f"
      },
      "source": [
        "rc.printSchema()"
      ],
      "execution_count": 79,
      "outputs": [
        {
          "output_type": "stream",
          "text": [
            "root\n",
            " |-- ID: string (nullable = true)\n",
            " |-- Case Number: string (nullable = true)\n",
            " |-- Date: timestamp (nullable = true)\n",
            " |-- Block: string (nullable = true)\n",
            " |-- IUCR: string (nullable = true)\n",
            " |-- Primary Type: string (nullable = true)\n",
            " |-- Description: string (nullable = true)\n",
            " |-- Location Description: string (nullable = true)\n",
            " |-- Arrest: string (nullable = true)\n",
            " |-- Domestic: string (nullable = true)\n",
            " |-- Beat: string (nullable = true)\n",
            " |-- District: string (nullable = true)\n",
            " |-- Ward: string (nullable = true)\n",
            " |-- Community Area: string (nullable = true)\n",
            " |-- FBI Code: string (nullable = true)\n",
            " |-- X Coordinate: string (nullable = true)\n",
            " |-- Y Coordinate: string (nullable = true)\n",
            " |-- Year: string (nullable = true)\n",
            " |-- Updated On: string (nullable = true)\n",
            " |-- Latitude: string (nullable = true)\n",
            " |-- Longitude: string (nullable = true)\n",
            " |-- Location: string (nullable = true)\n",
            " |-- Historical Wards 2003-2015: string (nullable = true)\n",
            " |-- Zip Codes: string (nullable = true)\n",
            " |-- Community Areas: string (nullable = true)\n",
            " |-- Census Tracts: string (nullable = true)\n",
            " |-- Wards: string (nullable = true)\n",
            " |-- Boundaries - ZIP Codes: string (nullable = true)\n",
            " |-- Police Districts: string (nullable = true)\n",
            " |-- Police Beats: string (nullable = true)\n",
            "\n"
          ],
          "name": "stdout"
        }
      ]
    },
    {
      "cell_type": "code",
      "metadata": {
        "id": "wVamtwbeTlUP",
        "colab_type": "code",
        "colab": {
          "base_uri": "https://localhost:8080/",
          "height": 34
        },
        "outputId": "5fe17c6c-b2b8-4018-d76c-09c90263ed0a"
      },
      "source": [
        "rc.filter(col('Arrest') == 'true').count()/rc.count()"
      ],
      "execution_count": 85,
      "outputs": [
        {
          "output_type": "execute_result",
          "data": {
            "text/plain": [
              "0.27751332590113215"
            ]
          },
          "metadata": {
            "tags": []
          },
          "execution_count": 85
        }
      ]
    },
    {
      "cell_type": "markdown",
      "metadata": {
        "id": "h6O5-7kGJP7i",
        "colab_type": "text"
      },
      "source": [
        "## Find the top 3 locations for the reported crimes"
      ]
    },
    {
      "cell_type": "code",
      "metadata": {
        "id": "kVlKaUJiMak8",
        "colab_type": "code",
        "colab": {
          "base_uri": "https://localhost:8080/",
          "height": 170
        },
        "outputId": "050380ad-e235-4c11-b5d7-00002c01ed9a"
      },
      "source": [
        "rc.groupby('location').count().sort('count',ascending=False).show(3)"
      ],
      "execution_count": 86,
      "outputs": [
        {
          "output_type": "stream",
          "text": [
            "+--------------------+-----+\n",
            "|            location|count|\n",
            "+--------------------+-----+\n",
            "|                null|63867|\n",
            "|(41.976290414, -8...|13114|\n",
            "|(41.754592961, -8...| 9434|\n",
            "+--------------------+-----+\n",
            "only showing top 3 rows\n",
            "\n"
          ],
          "name": "stdout"
        }
      ]
    },
    {
      "cell_type": "markdown",
      "metadata": {
        "id": "FE1eePAzVqkQ",
        "colab_type": "text"
      },
      "source": [
        "*there are null values so I will switch to different column*"
      ]
    },
    {
      "cell_type": "code",
      "metadata": {
        "id": "TjNKOZlVJtMj",
        "colab_type": "code",
        "colab": {
          "base_uri": "https://localhost:8080/",
          "height": 170
        },
        "outputId": "323e1acd-da10-4fef-cd70-38e328552a42"
      },
      "source": [
        "rc.groupby('Location Description').count().sort('count',ascending=False).show(3)"
      ],
      "execution_count": 87,
      "outputs": [
        {
          "output_type": "stream",
          "text": [
            "+--------------------+-------+\n",
            "|Location Description|  count|\n",
            "+--------------------+-------+\n",
            "|              STREET|1770708|\n",
            "|           RESIDENCE|1144124|\n",
            "|           APARTMENT| 697990|\n",
            "+--------------------+-------+\n",
            "only showing top 3 rows\n",
            "\n"
          ],
          "name": "stdout"
        }
      ]
    },
    {
      "cell_type": "code",
      "metadata": {
        "id": "vXCQX22VVvh-",
        "colab_type": "code",
        "colab": {}
      },
      "source": [
        ""
      ],
      "execution_count": 0,
      "outputs": []
    }
  ]
}